{
 "cells": [
  {
   "cell_type": "code",
   "execution_count": 8,
   "id": "71f9d05b-be02-4fad-8794-36cc81b40828",
   "metadata": {},
   "outputs": [
    {
     "data": {
      "text/plain": [
       "2"
      ]
     },
     "execution_count": 8,
     "metadata": {},
     "output_type": "execute_result"
    }
   ],
   "source": [
    "1+1"
   ]
  },
  {
   "cell_type": "code",
   "execution_count": 9,
   "id": "b1ff8af5-1415-4f5a-89f4-f74635a0cf8e",
   "metadata": {},
   "outputs": [
    {
     "data": {
      "text/plain": [
       "3"
      ]
     },
     "execution_count": 9,
     "metadata": {},
     "output_type": "execute_result"
    }
   ],
   "source": [
    "8-5"
   ]
  },
  {
   "cell_type": "code",
   "execution_count": 10,
   "id": "3c076801-3e6e-43c1-bd8b-87cf70db1aab",
   "metadata": {},
   "outputs": [
    {
     "data": {
      "text/plain": [
       "32"
      ]
     },
     "execution_count": 10,
     "metadata": {},
     "output_type": "execute_result"
    }
   ],
   "source": [
    "12+20"
   ]
  },
  {
   "cell_type": "code",
   "execution_count": 12,
   "id": "de094d9b-403b-40a4-aade-2c755ee954f7",
   "metadata": {},
   "outputs": [
    {
     "data": {
      "text/plain": [
       "47.0"
      ]
     },
     "execution_count": 12,
     "metadata": {},
     "output_type": "execute_result"
    }
   ],
   "source": [
    "29+20-6/3"
   ]
  },
  {
   "cell_type": "markdown",
   "id": "034130fb-726b-4634-9264-11f7bd6c24de",
   "metadata": {
    "tags": []
   },
   "source": [
    "My Title"
   ]
  },
  {
   "cell_type": "markdown",
   "id": "903cf5c0-dca1-40ec-b3d8-d8ca7bc9c4bf",
   "metadata": {},
   "source": [
    "This is my first jupyterlab code"
   ]
  },
  {
   "cell_type": "markdown",
   "id": "f2fc9d80-9a75-444c-8fd1-f15e47c05811",
   "metadata": {},
   "source": [
    "Exercise 5: Rename your Notebook. This can be done by clicking on files and selecting rename notebook."
   ]
  },
  {
   "cell_type": "markdown",
   "id": "36103f27-44d9-4ca2-a162-f01cd204bd4c",
   "metadata": {
    "tags": []
   },
   "source": [
    "Ex6. Save and download your notebook to to your pc."
   ]
  },
  {
   "cell_type": "code",
   "execution_count": null,
   "id": "961cf662-deb0-440d-b5ea-9b19a89fef9e",
   "metadata": {},
   "outputs": [],
   "source": []
  }
 ],
 "metadata": {
  "kernelspec": {
   "display_name": "Python",
   "language": "python",
   "name": "conda-env-python-py"
  },
  "language_info": {
   "codemirror_mode": {
    "name": "ipython",
    "version": 3
   },
   "file_extension": ".py",
   "mimetype": "text/x-python",
   "name": "python",
   "nbconvert_exporter": "python",
   "pygments_lexer": "ipython3",
   "version": "3.6.13"
  }
 },
 "nbformat": 4,
 "nbformat_minor": 5
}
